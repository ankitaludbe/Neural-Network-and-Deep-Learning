{
  "nbformat": 4,
  "nbformat_minor": 0,
  "metadata": {
    "colab": {
      "provenance": [],
      "authorship_tag": "ABX9TyMpVh+R7VQajF4zE0DzGGZL"
    },
    "kernelspec": {
      "name": "python3",
      "display_name": "Python 3"
    },
    "language_info": {
      "name": "python"
    }
  },
  "cells": [
    {
      "cell_type": "code",
      "execution_count": 1,
      "metadata": {
        "id": "KPbgpZtgHZOU"
      },
      "outputs": [],
      "source": [
        "import numpy as np\n",
        "import pandas as pd"
      ]
    },
    {
      "cell_type": "code",
      "source": [
        "W=np.array([1,-1,0,0.5]).transpose()\n",
        "Xi=[np.array([1,-2,0,-1]).transpose(),np.array([0,1.5,-0.5,-1]).transpose(),np.array([-1,1,0.5,-1]).transpose()]\n",
        "c=0.1\n",
        "d=[-1,-1,1]\n",
        "i=0\n",
        "print(W)\n",
        "print(Xi)\n",
        "print(d)"
      ],
      "metadata": {
        "colab": {
          "base_uri": "https://localhost:8080/"
        },
        "id": "GwJtVEpnHx2E",
        "outputId": "3d651146-9c6b-4617-814c-2c136b743eb0"
      },
      "execution_count": 2,
      "outputs": [
        {
          "output_type": "stream",
          "name": "stdout",
          "text": [
            "[ 1.  -1.   0.   0.5]\n",
            "[array([ 1, -2,  0, -1]), array([ 0. ,  1.5, -0.5, -1. ]), array([-1. ,  1. ,  0.5, -1. ])]\n",
            "[-1, -1, 1]\n"
          ]
        }
      ]
    },
    {
      "cell_type": "code",
      "source": [
        "for i in range(len(Xi)):\n",
        "  net=sum(W.transpose()*Xi[i])\n",
        "  print('Aggregation output:',net)\n",
        "  o=np.sign(net)\n",
        "  if o==d[i]:\n",
        "    print('No need of updation of weights')\n",
        "  else:\n",
        "    dw=c*(d[i]-o)*Xi[i]\n",
        "    W=W+dw\n",
        "    print('Weight vector for this iteration:',W)\n",
        "  i+=1"
      ],
      "metadata": {
        "colab": {
          "base_uri": "https://localhost:8080/"
        },
        "id": "9suxRFdpINuZ",
        "outputId": "f4d809fb-59d8-4bfc-8e33-e9ebeb08f2db"
      },
      "execution_count": 3,
      "outputs": [
        {
          "output_type": "stream",
          "name": "stdout",
          "text": [
            "Aggregation output: 2.5\n",
            "Weight vector for this iteration: [ 0.8 -0.6  0.   0.7]\n",
            "Aggregation output: -1.5999999999999999\n",
            "No need of updation of weights\n",
            "Aggregation output: -2.0999999999999996\n",
            "Weight vector for this iteration: [ 0.6 -0.4  0.1  0.5]\n"
          ]
        }
      ]
    },
    {
      "cell_type": "code",
      "source": [
        "print('Final weight matrix',W)"
      ],
      "metadata": {
        "colab": {
          "base_uri": "https://localhost:8080/"
        },
        "id": "TKxROtSNIN5O",
        "outputId": "f4611338-6436-4fae-d577-71398471c983"
      },
      "execution_count": 4,
      "outputs": [
        {
          "output_type": "stream",
          "name": "stdout",
          "text": [
            "Final weight matrix [ 0.6 -0.4  0.1  0.5]\n"
          ]
        }
      ]
    }
  ]
}