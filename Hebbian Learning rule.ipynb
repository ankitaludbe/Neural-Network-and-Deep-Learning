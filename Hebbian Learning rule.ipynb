{
  "nbformat": 4,
  "nbformat_minor": 0,
  "metadata": {
    "colab": {
      "provenance": [],
      "authorship_tag": "ABX9TyNZI/L/7BEM7NE8mH9eqgGB"
    },
    "kernelspec": {
      "name": "python3",
      "display_name": "Python 3"
    },
    "language_info": {
      "name": "python"
    }
  },
  "cells": [
    {
      "cell_type": "code",
      "execution_count": 1,
      "metadata": {
        "id": "rs6_-h-_CBtG"
      },
      "outputs": [],
      "source": [
        "import numpy as np\n",
        "import pandas as pd"
      ]
    },
    {
      "cell_type": "code",
      "source": [
        "W=np.array([1,-1,0,0.5]).transpose()\n",
        "Xi=[np.array([1,-2,1.5,0]).transpose(),np.array([1,-0.5,-2,-1.5]).transpose(),np.array([0,1,-1,1.5]).transpose()]\n",
        "c=1\n",
        "Iteration=0\n",
        "print(W)\n",
        "print(Xi)"
      ],
      "metadata": {
        "colab": {
          "base_uri": "https://localhost:8080/"
        },
        "id": "usfmOWTnCXSC",
        "outputId": "a3ff52e2-a092-463e-a8dc-c705fc6d4b0a"
      },
      "execution_count": 4,
      "outputs": [
        {
          "output_type": "stream",
          "name": "stdout",
          "text": [
            "[ 1.  -1.   0.   0.5]\n",
            "[array([ 1. , -2. ,  1.5,  0. ]), array([ 1. , -0.5, -2. , -1.5]), array([ 0. ,  1. , -1. ,  1.5])]\n"
          ]
        }
      ]
    },
    {
      "cell_type": "code",
      "source": [
        "for i in range(len(Xi)):\n",
        "  net=sum(W.transpose()*Xi[i])\n",
        "  Fnet=np.sign(net)\n",
        "  dw=c*Fnet*Xi[i]\n",
        "  W=W+dw\n",
        "  print('Weight vector for this iteration:',W)\n",
        "  Iteration+=1"
      ],
      "metadata": {
        "colab": {
          "base_uri": "https://localhost:8080/"
        },
        "id": "WOHhVIHhGUZG",
        "outputId": "46549df2-0e9e-4b1f-c372-eb61fc7d99ce"
      },
      "execution_count": 5,
      "outputs": [
        {
          "output_type": "stream",
          "name": "stdout",
          "text": [
            "Weight vector for this iteration: [ 2.  -3.   1.5  0.5]\n",
            "Weight vector for this iteration: [ 1.  -2.5  3.5  2. ]\n",
            "Weight vector for this iteration: [ 1.  -3.5  4.5  0.5]\n"
          ]
        }
      ]
    },
    {
      "cell_type": "code",
      "source": [
        "print('Final weight matrix:',W)\n",
        "print('Number of iteration:',Iteration)"
      ],
      "metadata": {
        "colab": {
          "base_uri": "https://localhost:8080/"
        },
        "id": "_q7uy_lIGx5q",
        "outputId": "00ae09ca-914f-40a2-ad00-0a62193c5416"
      },
      "execution_count": 6,
      "outputs": [
        {
          "output_type": "stream",
          "name": "stdout",
          "text": [
            "Final weight matrix: [ 1.  -3.5  4.5  0.5]\n",
            "Number of iteration: 3\n"
          ]
        }
      ]
    }
  ]
}