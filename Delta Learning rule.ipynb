{
  "nbformat": 4,
  "nbformat_minor": 0,
  "metadata": {
    "colab": {
      "provenance": []
    },
    "kernelspec": {
      "name": "python3",
      "display_name": "Python 3"
    },
    "language_info": {
      "name": "python"
    }
  },
  "cells": [
    {
      "cell_type": "code",
      "execution_count": 1,
      "metadata": {
        "id": "hLeQHBt39D3A"
      },
      "outputs": [],
      "source": [
        "import numpy as np\n",
        "import pandas as pd\n",
        "import sympy\n"
      ]
    },
    {
      "cell_type": "code",
      "source": [
        "W=np.array([1,-1,0,0.5]).transpose()\n",
        "Xi=[np.array([1,-2,0,-1]).transpose(),np.array([0,1.5,-0.5,-1]).transpose(),np.array([-1,1,0.5,-1]).transpose()]\n",
        "c=0.1\n",
        "d=[-1,-1,1]\n",
        "i=0\n",
        "print(W)\n",
        "print(Xi)\n",
        "print(d)\n"
      ],
      "metadata": {
        "colab": {
          "base_uri": "https://localhost:8080/"
        },
        "id": "8GWxNzJ49ZpE",
        "outputId": "a0f2cda1-dd32-4995-c7a6-bc923a985919"
      },
      "execution_count": 2,
      "outputs": [
        {
          "output_type": "stream",
          "name": "stdout",
          "text": [
            "[ 1.  -1.   0.   0.5]\n",
            "[array([ 1, -2,  0, -1]), array([ 0. ,  1.5, -0.5, -1. ]), array([-1. ,  1. ,  0.5, -1. ])]\n",
            "[-1, -1, 1]\n"
          ]
        }
      ]
    },
    {
      "cell_type": "code",
      "source": [
        "x=sympy.Symbol('x')\n",
        "y=((2/(1+sympy.exp(-x)))-1)\n",
        "yprime=y.diff(x)\n",
        "print(yprime)\n",
        "\n",
        "for i in range (len(Xi)):\n",
        "  net=sum(W.transpose()*Xi[i])\n",
        "  print('Aggrigation output:',round(net,3))\n",
        "  o=y.subs(x,net).evalf()\n",
        "  print(round(o,3))\n",
        "  fdashnet_value=yprime.subs(x,net).evalf()\n",
        "  print(round(o,3))\n",
        "  dw=c*(d[i]-o)*Xi[i]*fdashnet_value\n",
        "  W=W+dw\n",
        "  print('Weight vector for this iteration:' ,W)\n",
        "  i+=1"
      ],
      "metadata": {
        "id": "Rx-Hhftm-e7l",
        "colab": {
          "base_uri": "https://localhost:8080/"
        },
        "outputId": "0c81cd9f-2df7-4c93-b016-c51a69e5eb90"
      },
      "execution_count": 3,
      "outputs": [
        {
          "output_type": "stream",
          "name": "stdout",
          "text": [
            "2*exp(-x)/(1 + exp(-x))**2\n",
            "Aggrigation output: 2.5\n",
            "0.848\n",
            "0.848\n",
            "Weight vector for this iteration: [0.974085689521892 -0.948171379043783 0 0.525914310478108]\n",
            "Aggrigation output: -1.948\n",
            "-0.750\n",
            "-0.750\n",
            "Weight vector for this iteration: [0.974085689521892 -0.956344410130361 0.00272434369552599\n",
            " 0.531362997869160]\n",
            "Aggrigation output: -2.460\n",
            "-0.843\n",
            "-0.843\n",
            "Weight vector for this iteration: [0.947371549694924 -0.929630270303393 0.0160814136090099 0.504648858042193]\n"
          ]
        }
      ]
    },
    {
      "cell_type": "code",
      "source": [
        "print('Final weight matrix',W)"
      ],
      "metadata": {
        "colab": {
          "base_uri": "https://localhost:8080/"
        },
        "id": "oEEahNWxMv9G",
        "outputId": "e11b8d4e-aa76-46ff-a62e-3f72797973b8"
      },
      "execution_count": 4,
      "outputs": [
        {
          "output_type": "stream",
          "name": "stdout",
          "text": [
            "Final weight matrix [0.947371549694924 -0.929630270303393 0.0160814136090099 0.504648858042193]\n"
          ]
        }
      ]
    }
  ]
}