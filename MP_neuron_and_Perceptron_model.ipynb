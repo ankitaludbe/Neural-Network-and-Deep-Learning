{
  "nbformat": 4,
  "nbformat_minor": 0,
  "metadata": {
    "colab": {
      "provenance": [],
      "authorship_tag": "ABX9TyNUMxm/NgmQC74sZWGXuwW5"
    },
    "kernelspec": {
      "name": "python3",
      "display_name": "Python 3"
    },
    "language_info": {
      "name": "python"
    }
  },
  "cells": [
    {
      "cell_type": "code",
      "execution_count": 1,
      "metadata": {
        "colab": {
          "base_uri": "https://localhost:8080/"
        },
        "id": "mGmPJnhk8opw",
        "outputId": "0bb51670-ebf8-4232-d3d2-f6a7cd24892e"
      },
      "outputs": [
        {
          "output_type": "stream",
          "name": "stdout",
          "text": [
            "Input vector: [0 1 1]\n",
            "Weight vector: [-1  1  1]\n"
          ]
        }
      ],
      "source": [
        "import numpy as np\n",
        "np.random.seed(seed=0)\n",
        "I=np.random.choice([0,1],3)\n",
        "W=np.random.choice([-1,1],3)\n",
        "print('Input vector:',I)\n",
        "print('Weight vector:',W)"
      ]
    },
    {
      "cell_type": "code",
      "source": [
        "dot=I@W\n",
        "print('Dot product:',dot)"
      ],
      "metadata": {
        "colab": {
          "base_uri": "https://localhost:8080/"
        },
        "id": "emqm79Wt-VwN",
        "outputId": "f358329e-9177-47e2-bec5-d44030b2d129"
      },
      "execution_count": 2,
      "outputs": [
        {
          "output_type": "stream",
          "name": "stdout",
          "text": [
            "Dot product: 2\n"
          ]
        }
      ]
    },
    {
      "cell_type": "code",
      "source": [
        "def linear_threshold_gate(dot:int,T:float)->int:\n",
        "  if dot>=T:\n",
        "    return 1\n",
        "  else:\n",
        "    return 0"
      ],
      "metadata": {
        "id": "Up2ztQWa-dNE"
      },
      "execution_count": 3,
      "outputs": []
    },
    {
      "cell_type": "code",
      "source": [
        "T=1\n",
        "activation=linear_threshold_gate(dot,T)\n",
        "print('Activation:',activation)"
      ],
      "metadata": {
        "colab": {
          "base_uri": "https://localhost:8080/"
        },
        "id": "YW5OMnzS-t3q",
        "outputId": "771a709a-a41c-49d3-8b16-ffcd4f589583"
      },
      "execution_count": 4,
      "outputs": [
        {
          "output_type": "stream",
          "name": "stdout",
          "text": [
            "Activation: 1\n"
          ]
        }
      ]
    },
    {
      "cell_type": "code",
      "source": [
        "T=3\n",
        "activation=linear_threshold_gate(dot,T)\n",
        "print('Activation:',activation)"
      ],
      "metadata": {
        "colab": {
          "base_uri": "https://localhost:8080/"
        },
        "id": "aIjMg61X-4nq",
        "outputId": "b2377fc3-2359-4108-c7fc-42c1db84d9f5"
      },
      "execution_count": 5,
      "outputs": [
        {
          "output_type": "stream",
          "name": "stdout",
          "text": [
            "Activation: 0\n"
          ]
        }
      ]
    },
    {
      "cell_type": "code",
      "source": [
        "input_table=np.array([[0,0],[0,1],[1,0],[1,1]])\n",
        "print('Input table for AND gate:\\n',input_table)"
      ],
      "metadata": {
        "colab": {
          "base_uri": "https://localhost:8080/"
        },
        "id": "XTyAqubH_BC3",
        "outputId": "de884bd4-b901-4318-e312-9f7068ad5c73"
      },
      "execution_count": 7,
      "outputs": [
        {
          "output_type": "stream",
          "name": "stdout",
          "text": [
            "Input table for AND gate:\n",
            " [[0 0]\n",
            " [0 1]\n",
            " [1 0]\n",
            " [1 1]]\n"
          ]
        }
      ]
    },
    {
      "cell_type": "code",
      "source": [
        "weights=np.array([1,1])\n",
        "print(weights)"
      ],
      "metadata": {
        "colab": {
          "base_uri": "https://localhost:8080/"
        },
        "id": "WIBtkPFU_fWN",
        "outputId": "29f73e0a-4bef-4ff5-ea45-623f70726437"
      },
      "execution_count": 9,
      "outputs": [
        {
          "output_type": "stream",
          "name": "stdout",
          "text": [
            "[1 1]\n"
          ]
        }
      ]
    },
    {
      "cell_type": "code",
      "source": [
        "dot_products=input_table@weights\n",
        "print('Dot product:',dot_products)"
      ],
      "metadata": {
        "colab": {
          "base_uri": "https://localhost:8080/"
        },
        "id": "V7S-bQZy_zCD",
        "outputId": "2073e405-6646-45fc-df09-bad09ac390e5"
      },
      "execution_count": 10,
      "outputs": [
        {
          "output_type": "stream",
          "name": "stdout",
          "text": [
            "Dot product: [0 1 1 2]\n"
          ]
        }
      ]
    },
    {
      "cell_type": "code",
      "source": [
        "T=2\n",
        "for i in range(0,4):\n",
        "  activation=linear_threshold_gate(dot_products[i],T)\n",
        "  print('Activation:',activation)"
      ],
      "metadata": {
        "colab": {
          "base_uri": "https://localhost:8080/"
        },
        "id": "bXdmZjjDAIBv",
        "outputId": "645c7026-9a07-4dcc-f876-9dfa30965048"
      },
      "execution_count": 11,
      "outputs": [
        {
          "output_type": "stream",
          "name": "stdout",
          "text": [
            "Activation: 0\n",
            "Activation: 0\n",
            "Activation: 0\n",
            "Activation: 1\n"
          ]
        }
      ]
    },
    {
      "cell_type": "code",
      "source": [
        "T=1\n",
        "for i in range(0,4):\n",
        "  activation=linear_threshold_gate(dot_products[i],T)\n",
        "  print('Activation:',activation)"
      ],
      "metadata": {
        "colab": {
          "base_uri": "https://localhost:8080/"
        },
        "id": "8yl5i1vfAbNi",
        "outputId": "a0bc3a04-f0ff-4bd3-df4c-5cf66e333490"
      },
      "execution_count": 12,
      "outputs": [
        {
          "output_type": "stream",
          "name": "stdout",
          "text": [
            "Activation: 0\n",
            "Activation: 1\n",
            "Activation: 1\n",
            "Activation: 1\n"
          ]
        }
      ]
    },
    {
      "cell_type": "code",
      "source": [
        "weights=np.array([-1,-1])\n",
        "print('weights:',weights)"
      ],
      "metadata": {
        "colab": {
          "base_uri": "https://localhost:8080/"
        },
        "id": "7QuDjMvnAjdu",
        "outputId": "2dd5b0eb-1d2e-4402-f4c2-bcfbe7a6a5d2"
      },
      "execution_count": 13,
      "outputs": [
        {
          "output_type": "stream",
          "name": "stdout",
          "text": [
            "weights: [-1 -1]\n"
          ]
        }
      ]
    },
    {
      "cell_type": "code",
      "source": [
        "dot_products=input_table@weights\n",
        "print('Dot product:',dot_products)"
      ],
      "metadata": {
        "colab": {
          "base_uri": "https://localhost:8080/"
        },
        "id": "DtuW6OUJAr5X",
        "outputId": "11038261-78f1-484b-b1b8-ef96b37467d2"
      },
      "execution_count": 14,
      "outputs": [
        {
          "output_type": "stream",
          "name": "stdout",
          "text": [
            "Dot product: [ 0 -1 -1 -2]\n"
          ]
        }
      ]
    },
    {
      "cell_type": "code",
      "source": [
        "T=0\n",
        "for i in range(0,4):\n",
        "  activation=linear_threshold_gate(dot_products[i],T)\n",
        "  print('Activation:',activation)"
      ],
      "metadata": {
        "colab": {
          "base_uri": "https://localhost:8080/"
        },
        "id": "YGRtuJ5ZA2C1",
        "outputId": "9f7a9095-65c3-45d4-ae63-59be8a23eba3"
      },
      "execution_count": 16,
      "outputs": [
        {
          "output_type": "stream",
          "name": "stdout",
          "text": [
            "Activation: 1\n",
            "Activation: 0\n",
            "Activation: 0\n",
            "Activation: 0\n"
          ]
        }
      ]
    }
  ]
}